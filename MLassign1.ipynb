{
  "nbformat": 4,
  "nbformat_minor": 0,
  "metadata": {
    "colab": {
      "name": "MLassign1.ipynb",
      "provenance": [],
      "collapsed_sections": [],
      "authorship_tag": "ABX9TyPgEuhbD/dLGs2pI2xyskKw",
      "include_colab_link": true
    },
    "kernelspec": {
      "name": "python3",
      "display_name": "Python 3"
    },
    "language_info": {
      "name": "python"
    }
  },
  "cells": [
    {
      "cell_type": "markdown",
      "metadata": {
        "id": "view-in-github",
        "colab_type": "text"
      },
      "source": [
        "<a href=\"https://colab.research.google.com/github/SumeetSuley/SumeetSuley/blob/main/MLassign1.ipynb\" target=\"_parent\"><img src=\"https://colab.research.google.com/assets/colab-badge.svg\" alt=\"Open In Colab\"/></a>"
      ]
    },
    {
      "cell_type": "code",
      "metadata": {
        "id": "_XY1hZRKGqhz"
      },
      "source": [
        "import pandas as pd\n",
        "import matplotlib.pyplot as plt\n",
        "import numpy as np\n",
        "from sklearn.model_selection import train_test_split\n",
        "from sklearn.ensemble import RandomForestClassifier\n",
        "from sklearn.metrics import accuracy_score\n",
        "from sklearn.metrics import f1_score\n",
        "from sklearn.metrics import roc_auc_score\n",
        "from sklearn.metrics import precision_recall_fscore_support\n",
        "from sklearn.metrics import confusion_matrix\n",
        "from sklearn.naive_bayes import GaussianNB\n",
        "from sklearn.naive_bayes import BernoulliNB\n",
        "from sklearn.metrics import precision_score, recall_score\n",
        "from sklearn.tree import DecisionTreeClassifier\n",
        "import seaborn as sns\n",
        "%matplotlib inline"
      ],
      "execution_count": 1,
      "outputs": []
    },
    {
      "cell_type": "code",
      "metadata": {
        "id": "HFVAFjmHGunj"
      },
      "source": [
        "data = pd.read_csv(\"bank-additional-full.csv\",sep = \";\")"
      ],
      "execution_count": 2,
      "outputs": []
    },
    {
      "cell_type": "code",
      "metadata": {
        "colab": {
          "base_uri": "https://localhost:8080/"
        },
        "id": "L9jzauVTnLvH",
        "outputId": "44142efe-52d2-487c-b41d-0d04afcf1e59"
      },
      "source": [
        "data.shape"
      ],
      "execution_count": 11,
      "outputs": [
        {
          "output_type": "execute_result",
          "data": {
            "text/plain": [
              "(14770, 21)"
            ]
          },
          "metadata": {
            "tags": []
          },
          "execution_count": 11
        }
      ]
    },
    {
      "cell_type": "code",
      "metadata": {
        "colab": {
          "base_uri": "https://localhost:8080/",
          "height": 224
        },
        "id": "gtZ9dI5TH4k_",
        "outputId": "757007af-9265-4ef1-a1ba-7677c9c0e999"
      },
      "source": [
        "data.head(5)"
      ],
      "execution_count": 3,
      "outputs": [
        {
          "output_type": "execute_result",
          "data": {
            "text/html": [
              "<div>\n",
              "<style scoped>\n",
              "    .dataframe tbody tr th:only-of-type {\n",
              "        vertical-align: middle;\n",
              "    }\n",
              "\n",
              "    .dataframe tbody tr th {\n",
              "        vertical-align: top;\n",
              "    }\n",
              "\n",
              "    .dataframe thead th {\n",
              "        text-align: right;\n",
              "    }\n",
              "</style>\n",
              "<table border=\"1\" class=\"dataframe\">\n",
              "  <thead>\n",
              "    <tr style=\"text-align: right;\">\n",
              "      <th></th>\n",
              "      <th>age</th>\n",
              "      <th>job</th>\n",
              "      <th>marital</th>\n",
              "      <th>education</th>\n",
              "      <th>default</th>\n",
              "      <th>housing</th>\n",
              "      <th>loan</th>\n",
              "      <th>contact</th>\n",
              "      <th>month</th>\n",
              "      <th>day_of_week</th>\n",
              "      <th>duration</th>\n",
              "      <th>campaign</th>\n",
              "      <th>pdays</th>\n",
              "      <th>previous</th>\n",
              "      <th>poutcome</th>\n",
              "      <th>emp.var.rate</th>\n",
              "      <th>cons.price.idx</th>\n",
              "      <th>cons.conf.idx</th>\n",
              "      <th>euribor3m</th>\n",
              "      <th>nr.employed</th>\n",
              "      <th>y</th>\n",
              "    </tr>\n",
              "  </thead>\n",
              "  <tbody>\n",
              "    <tr>\n",
              "      <th>0</th>\n",
              "      <td>56</td>\n",
              "      <td>housemaid</td>\n",
              "      <td>married</td>\n",
              "      <td>basic.4y</td>\n",
              "      <td>no</td>\n",
              "      <td>no</td>\n",
              "      <td>no</td>\n",
              "      <td>telephone</td>\n",
              "      <td>may</td>\n",
              "      <td>mon</td>\n",
              "      <td>261</td>\n",
              "      <td>1</td>\n",
              "      <td>999</td>\n",
              "      <td>0</td>\n",
              "      <td>nonexistent</td>\n",
              "      <td>1.1</td>\n",
              "      <td>93.994</td>\n",
              "      <td>-36.4</td>\n",
              "      <td>4.857</td>\n",
              "      <td>5191.0</td>\n",
              "      <td>no</td>\n",
              "    </tr>\n",
              "    <tr>\n",
              "      <th>1</th>\n",
              "      <td>57</td>\n",
              "      <td>services</td>\n",
              "      <td>married</td>\n",
              "      <td>high.school</td>\n",
              "      <td>unknown</td>\n",
              "      <td>no</td>\n",
              "      <td>no</td>\n",
              "      <td>telephone</td>\n",
              "      <td>may</td>\n",
              "      <td>mon</td>\n",
              "      <td>149</td>\n",
              "      <td>1</td>\n",
              "      <td>999</td>\n",
              "      <td>0</td>\n",
              "      <td>nonexistent</td>\n",
              "      <td>1.1</td>\n",
              "      <td>93.994</td>\n",
              "      <td>-36.4</td>\n",
              "      <td>4.857</td>\n",
              "      <td>5191.0</td>\n",
              "      <td>no</td>\n",
              "    </tr>\n",
              "    <tr>\n",
              "      <th>2</th>\n",
              "      <td>37</td>\n",
              "      <td>services</td>\n",
              "      <td>married</td>\n",
              "      <td>high.school</td>\n",
              "      <td>no</td>\n",
              "      <td>yes</td>\n",
              "      <td>no</td>\n",
              "      <td>telephone</td>\n",
              "      <td>may</td>\n",
              "      <td>mon</td>\n",
              "      <td>226</td>\n",
              "      <td>1</td>\n",
              "      <td>999</td>\n",
              "      <td>0</td>\n",
              "      <td>nonexistent</td>\n",
              "      <td>1.1</td>\n",
              "      <td>93.994</td>\n",
              "      <td>-36.4</td>\n",
              "      <td>4.857</td>\n",
              "      <td>5191.0</td>\n",
              "      <td>no</td>\n",
              "    </tr>\n",
              "    <tr>\n",
              "      <th>3</th>\n",
              "      <td>40</td>\n",
              "      <td>admin.</td>\n",
              "      <td>married</td>\n",
              "      <td>basic.6y</td>\n",
              "      <td>no</td>\n",
              "      <td>no</td>\n",
              "      <td>no</td>\n",
              "      <td>telephone</td>\n",
              "      <td>may</td>\n",
              "      <td>mon</td>\n",
              "      <td>151</td>\n",
              "      <td>1</td>\n",
              "      <td>999</td>\n",
              "      <td>0</td>\n",
              "      <td>nonexistent</td>\n",
              "      <td>1.1</td>\n",
              "      <td>93.994</td>\n",
              "      <td>-36.4</td>\n",
              "      <td>4.857</td>\n",
              "      <td>5191.0</td>\n",
              "      <td>no</td>\n",
              "    </tr>\n",
              "    <tr>\n",
              "      <th>4</th>\n",
              "      <td>56</td>\n",
              "      <td>services</td>\n",
              "      <td>married</td>\n",
              "      <td>high.school</td>\n",
              "      <td>no</td>\n",
              "      <td>no</td>\n",
              "      <td>yes</td>\n",
              "      <td>telephone</td>\n",
              "      <td>may</td>\n",
              "      <td>mon</td>\n",
              "      <td>307</td>\n",
              "      <td>1</td>\n",
              "      <td>999</td>\n",
              "      <td>0</td>\n",
              "      <td>nonexistent</td>\n",
              "      <td>1.1</td>\n",
              "      <td>93.994</td>\n",
              "      <td>-36.4</td>\n",
              "      <td>4.857</td>\n",
              "      <td>5191.0</td>\n",
              "      <td>no</td>\n",
              "    </tr>\n",
              "  </tbody>\n",
              "</table>\n",
              "</div>"
            ],
            "text/plain": [
              "   age        job  marital  ... euribor3m nr.employed   y\n",
              "0   56  housemaid  married  ...     4.857      5191.0  no\n",
              "1   57   services  married  ...     4.857      5191.0  no\n",
              "2   37   services  married  ...     4.857      5191.0  no\n",
              "3   40     admin.  married  ...     4.857      5191.0  no\n",
              "4   56   services  married  ...     4.857      5191.0  no\n",
              "\n",
              "[5 rows x 21 columns]"
            ]
          },
          "metadata": {
            "tags": []
          },
          "execution_count": 3
        }
      ]
    },
    {
      "cell_type": "code",
      "metadata": {
        "id": "xErnteiCH54T"
      },
      "source": [
        "data['job'].replace('unknown',np.nan,inplace = True)\n",
        "data['education'].replace('unknown',np.nan,inplace = True)\n",
        "data['marital'].replace('unknown',np.nan,inplace = True)\n",
        "data['loan'].replace('unknown',np.nan,inplace=True)\n",
        "data['housing'].replace('unknown',np.nan,inplace=True)\n"
      ],
      "execution_count": 4,
      "outputs": []
    },
    {
      "cell_type": "code",
      "metadata": {
        "colab": {
          "base_uri": "https://localhost:8080/"
        },
        "id": "DFbVgCDaH-J8",
        "outputId": "ee8e7deb-5908-49f9-f91e-7b5cf49e0fa7"
      },
      "source": [
        "data.isnull().sum()"
      ],
      "execution_count": 5,
      "outputs": [
        {
          "output_type": "execute_result",
          "data": {
            "text/plain": [
              "age                 0\n",
              "job               156\n",
              "marital            24\n",
              "education         672\n",
              "default             0\n",
              "housing           435\n",
              "loan              435\n",
              "contact             0\n",
              "month               0\n",
              "day_of_week         0\n",
              "duration            0\n",
              "campaign            0\n",
              "pdays               0\n",
              "previous            0\n",
              "poutcome            0\n",
              "emp.var.rate        0\n",
              "cons.price.idx      0\n",
              "cons.conf.idx       1\n",
              "euribor3m           1\n",
              "nr.employed         1\n",
              "y                   1\n",
              "dtype: int64"
            ]
          },
          "metadata": {
            "tags": []
          },
          "execution_count": 5
        }
      ]
    },
    {
      "cell_type": "code",
      "metadata": {
        "id": "Qmv68T2VIBpy"
      },
      "source": [
        "data['loan'] = data['loan'].replace('yes',1)\n",
        "data['loan'] = data['loan'].replace('no',0)\n",
        "\n",
        "\n",
        "data['housing'] = data['housing'].replace('yes',1)\n",
        "data['housing'] = data['housing'].replace('no',0)\n",
        "\n",
        "data['contact'] = data['contact'].replace('telephone',1)\n",
        "data['contact'] = data['contact'].replace('cellular',0)\n",
        "\n",
        "data['default'] = data['default'].replace('yes',1)\n",
        "data['default'] = data['default'].replace('no',0)\n",
        "#data['default'].replace('unknown',np.nan,inplace=True)\n",
        "\n",
        "data['poutcome'] = data['poutcome'].replace('success',1)\n",
        "data['poutcome'] = data['poutcome'].replace('failure',0)\n",
        "\n",
        "data['y'] = data['y'].replace('yes',1)\n",
        "data['y'] = data['y'].replace('no',0)"
      ],
      "execution_count": 6,
      "outputs": []
    },
    {
      "cell_type": "code",
      "metadata": {
        "id": "PizIakazKB5c"
      },
      "source": [
        "data['poutcome'].replace('nonexistent',np.nan,inplace=True)\n",
        "data['poutcome'].fillna(0,inplace = True)"
      ],
      "execution_count": 7,
      "outputs": []
    },
    {
      "cell_type": "code",
      "metadata": {
        "colab": {
          "base_uri": "https://localhost:8080/"
        },
        "id": "CBZFvt5HISNh",
        "outputId": "1b36b32f-6ca1-42a7-9825-5b9ef1a98467"
      },
      "source": [
        "data.columns"
      ],
      "execution_count": 8,
      "outputs": [
        {
          "output_type": "execute_result",
          "data": {
            "text/plain": [
              "Index(['age', 'job', 'marital', 'education', 'default', 'housing', 'loan',\n",
              "       'contact', 'month', 'day_of_week', 'duration', 'campaign', 'pdays',\n",
              "       'previous', 'poutcome', 'emp.var.rate', 'cons.price.idx',\n",
              "       'cons.conf.idx', 'euribor3m', 'nr.employed', 'y'],\n",
              "      dtype='object')"
            ]
          },
          "metadata": {
            "tags": []
          },
          "execution_count": 8
        }
      ]
    },
    {
      "cell_type": "code",
      "metadata": {
        "colab": {
          "base_uri": "https://localhost:8080/",
          "height": 460
        },
        "id": "toWKISNaq4S1",
        "outputId": "07506167-82c0-478a-a926-726197ab34eb"
      },
      "source": [
        "plt.figure(figsize=(10,7))\n",
        "sns.histplot(x=data['y'],stat = 'count')"
      ],
      "execution_count": 9,
      "outputs": [
        {
          "output_type": "execute_result",
          "data": {
            "text/plain": [
              "<matplotlib.axes._subplots.AxesSubplot at 0x7f6076bfcf90>"
            ]
          },
          "metadata": {
            "tags": []
          },
          "execution_count": 9
        },
        {
          "output_type": "display_data",
          "data": {
            "image/png": "[encoded data removed]",
            "text/plain": [
              "<Figure size 720x504 with 1 Axes>"
            ]
          },
          "metadata": {
            "tags": [],
            "needs_background": "light"
          }
        }
      ]
    },
    {
      "cell_type": "code",
      "metadata": {
        "colab": {
          "base_uri": "https://localhost:8080/"
        },
        "id": "m10bezuVtNjq",
        "outputId": "026e9a4e-2d30-4100-e921-ffd3f30f4419"
      },
      "source": [
        "data['y'].value_counts()"
      ],
      "execution_count": 10,
      "outputs": [
        {
          "output_type": "execute_result",
          "data": {
            "text/plain": [
              "0.0    14184\n",
              "1.0      585\n",
              "Name: y, dtype: int64"
            ]
          },
          "metadata": {
            "tags": []
          },
          "execution_count": 10
        }
      ]
    },
    {
      "cell_type": "code",
      "metadata": {
        "colab": {
          "base_uri": "https://localhost:8080/",
          "height": 624
        },
        "id": "_obj4nofJATR",
        "outputId": "9145d29e-85a6-42da-f8d6-c083c99a7e4b"
      },
      "source": [
        "plt.figure(figsize=(15,10))\n",
        "sns.histplot(x=data['loan'],stat = 'count')\n"
      ],
      "execution_count": 12,
      "outputs": [
        {
          "output_type": "execute_result",
          "data": {
            "text/plain": [
              "<matplotlib.axes._subplots.AxesSubplot at 0x7f6074e0a790>"
            ]
          },
          "metadata": {
            "tags": []
          },
          "execution_count": 12
        },
        {
          "output_type": "display_data",
          "data": {
            "image/png": "[encoded data removed]",
            "text/plain": [
              "<Figure size 1080x720 with 1 Axes>"
            ]
          },
          "metadata": {
            "tags": [],
            "needs_background": "light"
          }
        }
      ]
    },
    {
      "cell_type": "code",
      "metadata": {
        "colab": {
          "base_uri": "https://localhost:8080/"
        },
        "id": "CiTbgRiHqMla",
        "outputId": "05ecc39b-df36-42c0-cba9-8283d9c6e900"
      },
      "source": [
        "data['loan'].value_counts()"
      ],
      "execution_count": 13,
      "outputs": [
        {
          "output_type": "execute_result",
          "data": {
            "text/plain": [
              "0.0    12212\n",
              "1.0     2123\n",
              "Name: loan, dtype: int64"
            ]
          },
          "metadata": {
            "tags": []
          },
          "execution_count": 13
        }
      ]
    },
    {
      "cell_type": "code",
      "metadata": {
        "id": "UflEShaXj-EP"
      },
      "source": [
        "attributes = ['age', 'housing', 'loan',\n",
        "       'contact','duration', 'campaign', 'pdays',\n",
        "       'previous', 'poutcome', 'emp.var.rate', 'cons.price.idx',\n",
        "       'cons.conf.idx', 'euribor3m', 'nr.employed','y']"
      ],
      "execution_count": 17,
      "outputs": []
    },
    {
      "cell_type": "code",
      "metadata": {
        "id": "TUza_JBrvbzh"
      },
      "source": [
        "targetvar = ['age', 'housing', 'loan',\n",
        "       'contact','duration', 'campaign', 'pdays',\n",
        "       'previous', 'poutcome', 'emp.var.rate', 'cons.price.idx',\n",
        "       'cons.conf.idx', 'euribor3m', 'nr.employed']"
      ],
      "execution_count": 18,
      "outputs": []
    },
    {
      "cell_type": "code",
      "metadata": {
        "colab": {
          "base_uri": "https://localhost:8080/",
          "height": 673
        },
        "id": "YMvzlpDdqMoB",
        "outputId": "026c59d7-880a-4406-c5ae-2453a38f9e19"
      },
      "source": [
        "plt.figure(figsize=(15,10))\n",
        "sns.heatmap(data[targetvar].corr(),linewidths=0.05,linecolor=\"white\")"
      ],
      "execution_count": null,
      "outputs": [
        {
          "output_type": "execute_result",
          "data": {
            "text/plain": [
              "<matplotlib.axes._subplots.AxesSubplot at 0x7fdbd5ce4b50>"
            ]
          },
          "metadata": {
            "tags": []
          },
          "execution_count": 115
        },
        {
          "output_type": "display_data",
          "data": {
            "image/png": "[encoded data removed]",
            "text/plain": [
              "<Figure size 1080x720 with 2 Axes>"
            ]
          },
          "metadata": {
            "tags": [],
            "needs_background": "light"
          }
        }
      ]
    },
    {
      "cell_type": "code",
      "metadata": {
        "id": "1bMTGQO9Jp0t"
      },
      "source": [
        "newdat = data[attributes].dropna(axis = 0)"
      ],
      "execution_count": 19,
      "outputs": []
    },
    {
      "cell_type": "code",
      "metadata": {
        "id": "Aglg2NVnRMkh"
      },
      "source": [
        "majorityclass = newdat[newdat['y']==0]\n",
        "minorityclass = newdat[newdat['y']==1]"
      ],
      "execution_count": 20,
      "outputs": []
    },
    {
      "cell_type": "code",
      "metadata": {
        "colab": {
          "base_uri": "https://localhost:8080/"
        },
        "id": "dYm96dvrR-x2",
        "outputId": "bf856c89-f167-46b2-d4d9-c4dd3c30ee0b"
      },
      "source": [
        "minorityclass.shape"
      ],
      "execution_count": 21,
      "outputs": [
        {
          "output_type": "execute_result",
          "data": {
            "text/plain": [
              "(576, 15)"
            ]
          },
          "metadata": {
            "tags": []
          },
          "execution_count": 21
        }
      ]
    },
    {
      "cell_type": "code",
      "metadata": {
        "colab": {
          "base_uri": "https://localhost:8080/"
        },
        "id": "niO1HmP6R-6B",
        "outputId": "9b4442eb-51c5-4177-d347-5768ed1c23c9"
      },
      "source": [
        "majorityclass.shape"
      ],
      "execution_count": 22,
      "outputs": [
        {
          "output_type": "execute_result",
          "data": {
            "text/plain": [
              "(13758, 15)"
            ]
          },
          "metadata": {
            "tags": []
          },
          "execution_count": 22
        }
      ]
    },
    {
      "cell_type": "code",
      "metadata": {
        "id": "AMT1EPDjSlJ_"
      },
      "source": [
        "minortysample = minorityclass.sample(n = majorityclass.shape[0],replace = True)"
      ],
      "execution_count": 23,
      "outputs": []
    },
    {
      "cell_type": "code",
      "metadata": {
        "id": "D6lxdrN-SlVM"
      },
      "source": [
        "equaldat = pd.concat([majorityclass,minortysample],axis = 0)"
      ],
      "execution_count": 24,
      "outputs": []
    },
    {
      "cell_type": "code",
      "metadata": {
        "id": "arBTUh-aJYW3"
      },
      "source": [
        "x = equaldat[targetvar]\n",
        "y = equaldat['y']\n",
        "rfclf = RandomForestClassifier(n_estimators=100)\n",
        "X_train, X_test, y_train, y_test = train_test_split(x,y,test_size = 0.35)\n",
        "rfclf.fit(X_train,y_train)\n",
        "rfpred = rfclf.predict(X_test)"
      ],
      "execution_count": 25,
      "outputs": []
    },
    {
      "cell_type": "code",
      "metadata": {
        "id": "t1Td-cf3y5c6"
      },
      "source": [
        "importances = rfclf.feature_importances_"
      ],
      "execution_count": 26,
      "outputs": []
    },
    {
      "cell_type": "code",
      "metadata": {
        "colab": {
          "base_uri": "https://localhost:8080/"
        },
        "id": "zOMWAA4zyChR",
        "outputId": "4d477e9c-6e65-4b60-c7dd-a62ac6f7cf75"
      },
      "source": [
        "for name, score in zip(X_train,rfclf.feature_importances_):\n",
        "    print(name, score*100)"
      ],
      "execution_count": 27,
      "outputs": [
        {
          "output_type": "stream",
          "text": [
            "age 7.921075857284045\n",
            "housing 0.7955759820828943\n",
            "loan 0.6184309226522703\n",
            "contact 0.7947291573508963\n",
            "duration 81.13455496476469\n",
            "campaign 3.8941864905965877\n",
            "pdays 0.0\n",
            "previous 0.0\n",
            "poutcome 0.0\n",
            "emp.var.rate 0.07687070287245094\n",
            "cons.price.idx 0.2631881598128146\n",
            "cons.conf.idx 0.4285126255015885\n",
            "euribor3m 3.8525170538096183\n",
            "nr.employed 0.22035808327214007\n"
          ],
          "name": "stdout"
        }
      ]
    },
    {
      "cell_type": "code",
      "metadata": {
        "colab": {
          "base_uri": "https://localhost:8080/",
          "height": 414
        },
        "id": "E_AcYgns0GmM",
        "outputId": "b9e76703-cd9d-47e5-a2c2-6b9f95fb4bb0"
      },
      "source": [
        "plt.figure(figsize=(25,10))\n",
        "sns.barplot(x = X_train.columns, y = importances)"
      ],
      "execution_count": 28,
      "outputs": [
        {
          "output_type": "execute_result",
          "data": {
            "text/plain": [
              "<matplotlib.axes._subplots.AxesSubplot at 0x7f6074c33c50>"
            ]
          },
          "metadata": {
            "tags": []
          },
          "execution_count": 28
        },
        {
          "output_type": "display_data",
          "data": {
            "image/png": "[encoded data removed]",
            "text/plain": [
              "<Figure size 1800x720 with 1 Axes>"
            ]
          },
          "metadata": {
            "tags": [],
            "needs_background": "light"
          }
        }
      ]
    },
    {
      "cell_type": "code",
      "metadata": {
        "colab": {
          "base_uri": "https://localhost:8080/"
        },
        "id": "RcQjnq3dxrwF",
        "outputId": "25ed9be2-2560-47c4-99ce-fb95bb8a0398"
      },
      "source": [
        "print(\"Recall score = \",recall_score(y_test,rfpred))\n",
        "print(\"Precision score = \",precision_score(y_test,rfpred))\n",
        "print(\"Accuracy score = \",accuracy_score(y_test,rfpred))\n",
        "print(\"F score = \",f1_score(y_test,rfpred))"
      ],
      "execution_count": 31,
      "outputs": [
        {
          "output_type": "stream",
          "text": [
            "Recall score =  1.0\n",
            "Precision score =  0.9742173112338858\n",
            "Accuracy score =  0.9869172463918596\n",
            "F score =  0.9869402985074627\n"
          ],
          "name": "stdout"
        }
      ]
    },
    {
      "cell_type": "code",
      "metadata": {
        "colab": {
          "base_uri": "https://localhost:8080/"
        },
        "id": "Su8AFDkpUhF7",
        "outputId": "612661f2-cca9-4675-e179-3ab494ae0432"
      },
      "source": [
        "confusion_matrix(y_test,rfpred)"
      ],
      "execution_count": 33,
      "outputs": [
        {
          "output_type": "execute_result",
          "data": {
            "text/plain": [
              "array([[4744,  126],\n",
              "       [   0, 4761]])"
            ]
          },
          "metadata": {
            "tags": []
          },
          "execution_count": 33
        }
      ]
    },
    {
      "cell_type": "code",
      "metadata": {
        "colab": {
          "base_uri": "https://localhost:8080/",
          "height": 283
        },
        "id": "KJtRBee2NFo1",
        "outputId": "bd3c92d1-f4ae-4af1-eae2-e03f4e1e458b"
      },
      "source": [
        "sns.heatmap(confusion_matrix(y_test,rfpred),linewidths=0.5,linecolor=\"white\")"
      ],
      "execution_count": 35,
      "outputs": [
        {
          "output_type": "execute_result",
          "data": {
            "text/plain": [
              "<matplotlib.axes._subplots.AxesSubplot at 0x7f6074b2de90>"
            ]
          },
          "metadata": {
            "tags": []
          },
          "execution_count": 35
        },
        {
          "output_type": "display_data",
          "data": {
            "image/png": "[encoded data removed]",
            "text/plain": [
              "<Figure size 432x288 with 2 Axes>"
            ]
          },
          "metadata": {
            "tags": [],
            "needs_background": "light"
          }
        }
      ]
    },
    {
      "cell_type": "code",
      "metadata": {
        "id": "rg-pvsqIOyBv"
      },
      "source": [
        "tree = DecisionTreeClassifier(random_state=0)\n",
        "tree.fit(X_train,y_train)\n",
        "prediction = tree.predict(X_test)"
      ],
      "execution_count": 36,
      "outputs": []
    },
    {
      "cell_type": "code",
      "metadata": {
        "colab": {
          "base_uri": "https://localhost:8080/"
        },
        "id": "YzaCHOcNpCKc",
        "outputId": "e2107c7e-d858-4ede-a2da-8a39e169336d"
      },
      "source": [
        "print(\"Recall score = \",recall_score(y_test,prediction))\n",
        "print(\"Precision score = \",precision_score(y_test,prediction))\n",
        "print(\"Accuracy score = \",accuracy_score(y_test,prediction))\n",
        "print(\"F score = \",f1_score(y_test,prediction))"
      ],
      "execution_count": 37,
      "outputs": [
        {
          "output_type": "stream",
          "text": [
            "Recall score =  1.0\n",
            "Precision score =  0.9734205683909221\n",
            "Accuracy score =  0.98650192088049\n",
            "F score =  0.9865312888520513\n"
          ],
          "name": "stdout"
        }
      ]
    },
    {
      "cell_type": "code",
      "metadata": {
        "id": "48i9xNFU0p9z"
      },
      "source": [
        "tree_imp = tree.feature_importances_"
      ],
      "execution_count": 38,
      "outputs": []
    },
    {
      "cell_type": "code",
      "metadata": {
        "colab": {
          "base_uri": "https://localhost:8080/",
          "height": 414
        },
        "id": "xHb7LRD001x-",
        "outputId": "f76abc15-ff29-44b5-b9ed-eaaef735b6c9"
      },
      "source": [
        "plt.figure(figsize=(25,10))\n",
        "sns.barplot(x = X_train.columns, y = tree_imp)"
      ],
      "execution_count": 39,
      "outputs": [
        {
          "output_type": "execute_result",
          "data": {
            "text/plain": [
              "<matplotlib.axes._subplots.AxesSubplot at 0x7f6074a994d0>"
            ]
          },
          "metadata": {
            "tags": []
          },
          "execution_count": 39
        },
        {
          "output_type": "display_data",
          "data": {
            "image/png": "[encoded data removed]",
            "text/plain": [
              "<Figure size 1800x720 with 1 Axes>"
            ]
          },
          "metadata": {
            "tags": [],
            "needs_background": "light"
          }
        }
      ]
    },
    {
      "cell_type": "code",
      "metadata": {
        "id": "JPUpuQNrX9vm"
      },
      "source": [
        "bayesclf = BernoulliNB()\n",
        "bayesclf.fit(X_train,y_train)\n",
        "bayes_pred = bayesclf.predict(X_test)"
      ],
      "execution_count": 40,
      "outputs": []
    },
    {
      "cell_type": "code",
      "metadata": {
        "id": "6bUlM90gZgTH",
        "colab": {
          "base_uri": "https://localhost:8080/"
        },
        "outputId": "b1f62217-f3a7-49eb-d202-a9086768ca41"
      },
      "source": [
        "print(\"Recall score = \",recall_score(y_test,bayes_pred))\n",
        "print(\"Precision score = \",precision_score(y_test,bayes_pred))\n",
        "print(\"Accuracy score = \",accuracy_score(y_test,bayes_pred))\n",
        "print(\"F score = \",f1_score(y_test,bayes_pred))"
      ],
      "execution_count": 41,
      "outputs": [
        {
          "output_type": "stream",
          "text": [
            "Recall score =  0.2566687670657425\n",
            "Precision score =  0.6462189317821259\n",
            "Accuracy score =  0.5630775620392483\n",
            "F score =  0.36740829825616356\n"
          ],
          "name": "stdout"
        }
      ]
    },
    {
      "cell_type": "code",
      "metadata": {
        "id": "-bHcv_z61kBC"
      },
      "source": [
        "pred_proba = bayesclf.predict_proba(X_test)"
      ],
      "execution_count": null,
      "outputs": []
    },
    {
      "cell_type": "code",
      "metadata": {
        "colab": {
          "base_uri": "https://localhost:8080/"
        },
        "id": "z4ZQCICn2AKy",
        "outputId": "68b7a8fe-f80c-4a1c-8b04-5c8dfc85dc84"
      },
      "source": [
        "for col,prob in zip(X_test.columns,pred_proba):\n",
        "    print(col, prob)"
      ],
      "execution_count": null,
      "outputs": [
        {
          "output_type": "stream",
          "text": [
            "age [0.35602183 0.64397817]\n",
            "housing [0.35602183 0.64397817]\n",
            "loan [0.35602183 0.64397817]\n",
            "contact [0.90677247 0.09322753]\n",
            "duration [0.90001155 0.09998845]\n",
            "campaign [0.12972905 0.87027095]\n",
            "pdays [0.02862467 0.97137533]\n",
            "previous [0.35602183 0.64397817]\n",
            "poutcome [0.90001155 0.09998845]\n",
            "emp.var.rate [0.74519778 0.25480222]\n",
            "cons.price.idx [0.00853041 0.99146959]\n",
            "cons.conf.idx [0.35602183 0.64397817]\n",
            "euribor3m [0.90262815 0.09737185]\n",
            "nr.employed [0.38089371 0.61910629]\n"
          ],
          "name": "stdout"
        }
      ]
    },
    {
      "cell_type": "code",
      "metadata": {
        "colab": {
          "base_uri": "https://localhost:8080/"
        },
        "id": "6m7cp5K8Gf8z",
        "outputId": "6bef605d-3a4f-4360-b873-e09e01315f17"
      },
      "source": [
        "data.shape"
      ],
      "execution_count": null,
      "outputs": [
        {
          "output_type": "execute_result",
          "data": {
            "text/plain": [
              "(41188, 21)"
            ]
          },
          "metadata": {
            "tags": []
          },
          "execution_count": 140
        }
      ]
    },
    {
      "cell_type": "code",
      "metadata": {
        "id": "bCPtDDfn2eFM"
      },
      "source": [
        ""
      ],
      "execution_count": null,
      "outputs": []
    },
    {
      "cell_type": "code",
      "metadata": {
        "id": "5XO_T4lz4ymy"
      },
      "source": [
        ""
      ],
      "execution_count": null,
      "outputs": []
    }
  ]
}